{
 "cells": [
  {
   "cell_type": "code",
   "execution_count": 5,
   "metadata": {
    "collapsed": false
   },
   "outputs": [
    {
     "name": "stderr",
     "output_type": "stream",
     "text": [
      "/home/michael/Enthought/Canopy_64bit/User/lib/python2.7/site-packages/matplotlib/font_manager.py:273: UserWarning: Matplotlib is building the font cache using fc-list. This may take a moment.\n",
      "  warnings.warn('Matplotlib is building the font cache using fc-list. This may take a moment.')\n"
     ]
    }
   ],
   "source": [
    "import matplotlib.pyplot as plt"
   ]
  },
  {
   "cell_type": "code",
   "execution_count": 7,
   "metadata": {
    "collapsed": true
   },
   "outputs": [],
   "source": [
    "import numpy as np"
   ]
  },
  {
   "cell_type": "code",
   "execution_count": 8,
   "metadata": {
    "collapsed": true
   },
   "outputs": [],
   "source": [
    "%matplotlib inline"
   ]
  },
  {
   "cell_type": "code",
   "execution_count": 9,
   "metadata": {
    "collapsed": true
   },
   "outputs": [],
   "source": [
    "x=np.arange(100)"
   ]
  },
  {
   "cell_type": "code",
   "execution_count": 10,
   "metadata": {
    "collapsed": false
   },
   "outputs": [
    {
     "data": {
      "text/plain": [
       "array([ 0,  1,  2,  3,  4,  5,  6,  7,  8,  9, 10, 11, 12, 13, 14, 15, 16,\n",
       "       17, 18, 19, 20, 21, 22, 23, 24, 25, 26, 27, 28, 29, 30, 31, 32, 33,\n",
       "       34, 35, 36, 37, 38, 39, 40, 41, 42, 43, 44, 45, 46, 47, 48, 49, 50,\n",
       "       51, 52, 53, 54, 55, 56, 57, 58, 59, 60, 61, 62, 63, 64, 65, 66, 67,\n",
       "       68, 69, 70, 71, 72, 73, 74, 75, 76, 77, 78, 79, 80, 81, 82, 83, 84,\n",
       "       85, 86, 87, 88, 89, 90, 91, 92, 93, 94, 95, 96, 97, 98, 99])"
      ]
     },
     "execution_count": 10,
     "metadata": {},
     "output_type": "execute_result"
    }
   ],
   "source": [
    "x"
   ]
  },
  {
   "cell_type": "code",
   "execution_count": 18,
   "metadata": {
    "collapsed": true
   },
   "outputs": [],
   "source": [
    "y=np.sin(x/10.0)"
   ]
  },
  {
   "cell_type": "code",
   "execution_count": 12,
   "metadata": {
    "collapsed": false
   },
   "outputs": [
    {
     "data": {
      "text/plain": [
       "array([ 0.        ,  0.00999983,  0.01999867,  0.0299955 ,  0.03998933,\n",
       "        0.04997917,  0.05996401,  0.06994285,  0.07991469,  0.08987855,\n",
       "        0.09983342,  0.1097783 ,  0.11971221,  0.12963414,  0.13954311,\n",
       "        0.14943813,  0.15931821,  0.16918235,  0.17902957,  0.18885889,\n",
       "        0.19866933,  0.2084599 ,  0.21822962,  0.22797752,  0.23770263,\n",
       "        0.24740396,  0.25708055,  0.26673144,  0.27635565,  0.28595223,\n",
       "        0.29552021,  0.30505864,  0.31456656,  0.32404303,  0.33348709,\n",
       "        0.34289781,  0.35227423,  0.36161543,  0.37092047,  0.38018842,\n",
       "        0.38941834,  0.39860933,  0.40776045,  0.4168708 ,  0.42593947,\n",
       "        0.43496553,  0.44394811,  0.45288629,  0.46177918,  0.47062589,\n",
       "        0.47942554,  0.48817725,  0.49688014,  0.50553334,  0.51413599,\n",
       "        0.52268723,  0.5311862 ,  0.53963205,  0.54802394,  0.55636102,\n",
       "        0.56464247,  0.57286746,  0.58103516,  0.58914476,  0.59719544,\n",
       "        0.60518641,  0.61311685,  0.62098599,  0.62879302,  0.63653718,\n",
       "        0.64421769,  0.65183377,  0.65938467,  0.66686964,  0.67428791,\n",
       "        0.68163876,  0.68892145,  0.69613524,  0.70327942,  0.71035327,\n",
       "        0.71735609,  0.72428717,  0.73114583,  0.73793137,  0.74464312,\n",
       "        0.75128041,  0.75784256,  0.76432894,  0.77073888,  0.77707175,\n",
       "        0.78332691,  0.78950374,  0.79560162,  0.80161994,  0.8075581 ,\n",
       "        0.8134155 ,  0.81919157,  0.82488571,  0.83049737,  0.83602598])"
      ]
     },
     "execution_count": 12,
     "metadata": {},
     "output_type": "execute_result"
    }
   ],
   "source": [
    "y"
   ]
  },
  {
   "cell_type": "code",
   "execution_count": 13,
   "metadata": {
    "collapsed": true
   },
   "outputs": [],
   "source": [
    "cm = plt.cm.get_cmap('RdYlBu')"
   ]
  },
  {
   "cell_type": "code",
   "execution_count": 25,
   "metadata": {
    "collapsed": false
   },
   "outputs": [
    {
     "data": {
      "text/plain": [
       "<matplotlib.colorbar.Colorbar at 0x7fcf056b8650>"
      ]
     },
     "execution_count": 25,
     "metadata": {},
     "output_type": "execute_result"
    },
    {
     "data": {
      "image/png": "[encoded data removed]",
      "text/plain": [
       "<matplotlib.figure.Figure at 0x7fcf054dbb10>"
      ]
     },
     "metadata": {},
     "output_type": "display_data"
    }
   ],
   "source": [
    "sc = plt.scatter(x, y, c=x, vmin=0, vmax=100, s=10, cmap=cm)  \n",
    "plt.colorbar(sc)  "
   ]
  },
  {
   "cell_type": "code",
   "execution_count": 33,
   "metadata": {
    "collapsed": false
   },
   "outputs": [
    {
     "name": "stdout",
     "output_type": "stream",
     "text": [
      "[-19.99 -19.97 -19.95 ...,  19.95  19.97  19.99]\n"
     ]
    }
   ],
   "source": [
    "a=(np.arange(2000)+0.5)/2000.0*40-20\n",
    "print(a)"
   ]
  },
  {
   "cell_type": "code",
   "execution_count": 2,
   "metadata": {
    "collapsed": false
   },
   "outputs": [
    {
     "data": {
      "text/plain": [
       "412496.20867455256"
      ]
     },
     "execution_count": 2,
     "metadata": {},
     "output_type": "execute_result"
    }
   ],
   "source": [
    "0.51e6*1.6e-19/(1.05e-34*3e8*2*3.14/1e-6)"
   ]
  },
  {
   "cell_type": "code",
   "execution_count": 27,
   "metadata": {
    "collapsed": false
   },
   "outputs": [
    {
     "data": {
      "text/plain": [
       "1983.58"
      ]
     },
     "execution_count": 27,
     "metadata": {},
     "output_type": "execute_result"
    }
   ],
   "source": [
    "(4.1e5)**2*1.18e-8"
   ]
  },
  {
   "cell_type": "code",
   "execution_count": null,
   "metadata": {
    "collapsed": false
   },
   "outputs": [],
   "source": [
    "%matplotlib inline\n",
    "import numpy as np\n",
    "import matplotlib.pyplot as plt\n",
    "from matplotlib import colors,ticker,cm\n",
    "x=(np.arange(2000)+0.5)/2000.0*4-2;y=(np.arange(2000)+0.5)/2000.0*4-2\n",
    "X,Y=np.meshgrid(x,y)\n",
    "z=np.zeros((2000,2000))\n",
    "theta=np.pi/8\n",
    "for i in range(2000):\n",
    "    for j in range(2000):\n",
    "        z[i,j]=np.sin(2*np.pi*(x[i]*np.cos(0)+y[j]*np.sin(0)))\\\n",
    "              +np.sin(2*np.pi*(x[i]*np.cos(2*theta)+y[j]*np.sin(2*theta)))\\\n",
    "              +np.sin(2*np.pi*(x[i]*np.cos(4*theta)+y[j]*np.sin(4*theta)))\\\n",
    "              +np.sin(2*np.pi*(x[i]*np.cos(6*theta)+y[j]*np.sin(6*theta)))\\\n",
    "              +np.sin(2*np.pi*(x[i]*np.cos(8*theta)+y[j]*np.sin(8*theta)))\\\n",
    "              +np.sin(2*np.pi*(x[i]*np.cos(10*theta)+y[j]*np.sin(10*theta)))\\\n",
    "              +np.sin(2*np.pi*(x[i]*np.cos(12*theta)+y[j]*np.sin(12*theta)))\\\n",
    "              +np.sin(2*np.pi*(x[i]*np.cos(14*theta)+y[j]*np.sin(14*theta)))\n",
    "eee=np.max([-np.min(z),np.max(z)])\n",
    "levels=np.linspace(-eee,eee,40)\n",
    "plt.contourf(X,Y,z.T,levels=levels,cmap=cm.RdBu)\n",
    "cbar=plt.colorbar(ticks=[-eee,-eee/2,0,eee/2,eee])"
   ]
  },
  {
   "cell_type": "code",
   "execution_count": 3,
   "metadata": {
    "collapsed": false
   },
   "outputs": [
    {
     "ename": "NameError",
     "evalue": "name 'np' is not defined",
     "output_type": "error",
     "traceback": [
      "\u001b[1;31m---------------------------------------------------------------------------\u001b[0m",
      "\u001b[1;31mNameError\u001b[0m                                 Traceback (most recent call last)",
      "\u001b[1;32m<ipython-input-3-b70acdbffaf4>\u001b[0m in \u001b[0;36m<module>\u001b[1;34m()\u001b[0m\n\u001b[1;32m----> 1\u001b[1;33m \u001b[0mnp\u001b[0m\u001b[1;33m.\u001b[0m\u001b[0mzeros\u001b[0m\u001b[1;33m(\u001b[0m\u001b[1;36m10\u001b[0m\u001b[1;33m)\u001b[0m\u001b[1;33m\u001b[0m\u001b[0m\n\u001b[0m",
      "\u001b[1;31mNameError\u001b[0m: name 'np' is not defined"
     ]
    }
   ],
   "source": [
    "np.zeros(10)"
   ]
  },
  {
   "cell_type": "code",
   "execution_count": 4,
   "metadata": {
    "collapsed": false
   },
   "outputs": [
    {
     "data": {
      "text/plain": [
       "array([ 0.,  0.,  0.,  0.,  0.,  0.,  0.,  0.,  0.,  0.])"
      ]
     },
     "execution_count": 4,
     "metadata": {},
     "output_type": "execute_result"
    }
   ],
   "source": [
    "import numpy as np\n",
    "np.zeros(10)"
   ]
  },
  {
   "cell_type": "code",
   "execution_count": 5,
   "metadata": {
    "collapsed": false
   },
   "outputs": [
    {
     "name": "stdout",
     "output_type": "stream",
     "text": [
      "[ 1.  0.  0.  0.  0.  0.  0.  0.  0.  0.]\n"
     ]
    }
   ],
   "source": [
    "import numpy as np\n",
    "a=np.zeros(10)\n",
    "a[0]=1\n",
    "print(a)"
   ]
  },
  {
   "cell_type": "code",
   "execution_count": 6,
   "metadata": {
    "collapsed": true
   },
   "outputs": [],
   "source": [
    "from sympy import  integrate"
   ]
  },
  {
   "cell_type": "code",
   "execution_count": 7,
   "metadata": {
    "collapsed": true
   },
   "outputs": [],
   "source": [
    "x=np.linspace(0,100,0.1)"
   ]
  },
  {
   "cell_type": "code",
   "execution_count": 12,
   "metadata": {
    "collapsed": false
   },
   "outputs": [],
   "source": [
    "y=x*np.exp(-x)"
   ]
  },
  {
   "cell_type": "code",
   "execution_count": 17,
   "metadata": {
    "collapsed": false
   },
   "outputs": [
    {
     "data": {
      "text/plain": [
       "[<matplotlib.lines.Line2D at 0x7f29054cd0d0>]"
      ]
     },
     "execution_count": 17,
     "metadata": {},
     "output_type": "execute_result"
    },
    {
     "data": {
      "image/png": "[encoded data removed]",
      "text/plain": [
       "<matplotlib.figure.Figure at 0x7f2905c07850>"
      ]
     },
     "metadata": {},
     "output_type": "display_data"
    }
   ],
   "source": [
    "%matplotlib inline\n",
    "import numpy as np\n",
    "import matplotlib.pyplot as plt\n",
    "\n",
    "T_y=np.linspace(-2.5,2.5,100,endpoint=True)\n",
    "T_py=450.0**2*4*T_y*np.exp(-2*T_y**2/5.0**2)/(2*1000.0*5.0**2)*11.8\n",
    "plt.plot(T_y,T_py)"
   ]
  },
  {
   "cell_type": "code",
   "execution_count": null,
   "metadata": {
    "collapsed": true
   },
   "outputs": [],
   "source": []
  }
 ],
 "metadata": {
  "kernelspec": {
   "display_name": "Python 2",
   "language": "python",
   "name": "python2"
  },
  "language_info": {
   "codemirror_mode": {
    "name": "ipython",
    "version": 2
   },
   "file_extension": ".py",
   "mimetype": "text/x-python",
   "name": "python",
   "nbconvert_exporter": "python",
   "pygments_lexer": "ipython2",
   "version": "2.7.11"
  }
 },
 "nbformat": 4,
 "nbformat_minor": 0
}
